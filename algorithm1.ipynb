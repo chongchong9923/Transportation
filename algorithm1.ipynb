{
 "metadata": {
  "language_info": {
   "codemirror_mode": {
    "name": "ipython",
    "version": 3
   },
   "file_extension": ".py",
   "mimetype": "text/x-python",
   "name": "python",
   "nbconvert_exporter": "python",
   "pygments_lexer": "ipython3",
   "version": "3.9.1-final"
  },
  "orig_nbformat": 2,
  "kernelspec": {
   "name": "python3",
   "display_name": "Python 3",
   "language": "python"
  }
 },
 "nbformat": 4,
 "nbformat_minor": 2,
 "cells": [
  {
   "source": [
    " 알고리즘 기초"
   ],
   "cell_type": "markdown",
   "metadata": {}
  },
  {
   "cell_type": "code",
   "execution_count": null,
   "metadata": {},
   "outputs": [],
   "source": [
    "# 세정수 입력받아 최댓값 구하기\n",
    "print('세정수 최댓값 구하기')\n",
    "\n",
    "a = int(input('정수 a:'))\n",
    "b = int(input('정수 b:'))\n",
    "c = int(input('정수 c:'))\n",
    "#한문장씩 처리 : 순차구조, 조건식에 따라 처리, 선택구조\n",
    "maximum = a\n",
    "if b >maximum : \n",
    "    maximum = b\n",
    "\n",
    "if c >maximum : \n",
    "    maximum = c\n",
    "\n",
    "print(f'최댓값은 {maximum}입니다.')"
   ]
  },
  {
   "cell_type": "code",
   "execution_count": null,
   "metadata": {},
   "outputs": [],
   "source": [
    "# 세정수의 최댓값 구하기\n",
    "def max3(a,b,c):\n",
    "    maximum = a\n",
    "    if b >maximum : \n",
    "        maximum = b\n",
    "\n",
    "    if c >maximum : \n",
    "        maximum = c\n",
    "    return maximum\n",
    "\n",
    "max3(3,2,1)"
   ]
  },
  {
   "cell_type": "code",
   "execution_count": null,
   "metadata": {},
   "outputs": [],
   "source": [
    "def med3(a,b,c):\n",
    "    if a >= b:\n",
    "        if b>=c:\n",
    "            return b\n",
    "        else:\n",
    "            return c\n",
    "    elif a>c:\n",
    "        return a\n",
    "    elif b>c:\n",
    "        return c\n",
    "    else:\n",
    "        return b\n",
    "\n",
    "med3(1,24,22)"
   ]
  },
  {
   "cell_type": "code",
   "execution_count": null,
   "metadata": {},
   "outputs": [],
   "source": [
    "# 입력받은 정수 부호 출력하기\n",
    "def sign(n):\n",
    "    if n > 0:\n",
    "        return '+'\n",
    "    elif n<0:\n",
    "        return '-'\n",
    "    else:\n",
    "        return '0'\n",
    "    \n",
    "    \n",
    "sign(3)\n",
    "sign(-1)  \n"
   ]
  },
  {
   "cell_type": "code",
   "execution_count": null,
   "metadata": {},
   "outputs": [],
   "source": [
    "#반복하는 알고리즘\n",
    "#1부터 N까지의 합 도출하기\n",
    "\n",
    "def hap(n):\n",
    "    hap_list = list(range(n+1))\n",
    "    result = sum(hap_list)\n",
    "    print(f'1부터 {n}까지의 정수의 합은 {result}입니다.')\n",
    "\n",
    "hap(100)\n"
   ]
  },
  {
   "cell_type": "code",
   "execution_count": null,
   "metadata": {},
   "outputs": [],
   "source": [
    "#a부터 b까지의 정수 합 구하기\n",
    "def hap1(a,b):\n",
    "    if a > b:\n",
    "        a,b = b,a #순서바꿔주기,단일대입문\n",
    "    hap_list = list(range(a,b+1))\n",
    "    result = sum(hap_list)\n",
    "    print(f'{a}부터 {b}까지의 정수의 합은 {result}입니다.')\n",
    "hap1(20,10)"
   ]
  },
  {
   "cell_type": "code",
   "execution_count": null,
   "metadata": {},
   "outputs": [],
   "source": [
    "# +와 -를 번갈아 출력하기\n",
    "def print_out():\n",
    "    n = int(input('몇 개를 출력할까요?:'))\n",
    "    for _ in range(n//2): #언더스코어 : 인덱스를 사용할 필요가 없기때문임\n",
    "         print('+-',end = '')\n",
    "    if n%2:\n",
    "        print('+',end='')\n",
    "\n",
    "print_out()"
   ]
  },
  {
   "cell_type": "code",
   "execution_count": 1,
   "metadata": {},
   "outputs": [
    {
     "output_type": "error",
     "ename": "SyntaxError",
     "evalue": "unmatched ')' (<ipython-input-1-71a2109afc31>, line 2)",
     "traceback": [
      "\u001b[1;36m  File \u001b[1;32m\"<ipython-input-1-71a2109afc31>\"\u001b[1;36m, line \u001b[1;32m2\u001b[0m\n\u001b[1;33m    def enter()):\u001b[0m\n\u001b[1;37m               ^\u001b[0m\n\u001b[1;31mSyntaxError\u001b[0m\u001b[1;31m:\u001b[0m unmatched ')'\n"
     ]
    }
   ],
   "source": [
    "# *를 n개 출력하되 w개마다 줄바꿈하기\n",
    "def enter()):\n",
    "    a = int(input('몇개를 출력:'))\n",
    "    b = int(input('몇 개마다 줄바꿈?'))\n",
    "    for _ in range(a//b): #a가 11, b가 4이면 * 4개씩 2줄이 나옴\n",
    "        print('*' * b)\n",
    "    rest = a % b\n",
    "    if rest:\n",
    "        print('*' *  rest)\n",
    "        \n",
    "    \n",
    "enter()\n"
   ]
  },
  {
   "cell_type": "code",
   "execution_count": 9,
   "metadata": {},
   "outputs": [],
   "source": [
    "def rec():\n",
    "    area = int(input('직사각형 넓이:'))\n",
    "    for i in range(1,area+1):\n",
    "        if area % i == 0:\n",
    "            print(f'{i} * {area/i} = {area}')\n",
    "        if i**2 > area:\n",
    "            break"
   ]
  },
  {
   "cell_type": "code",
   "execution_count": 12,
   "metadata": {},
   "outputs": [
    {
     "output_type": "execute_result",
     "data": {
      "text/plain": [
       "True"
      ]
     },
     "metadata": {},
     "execution_count": 12
    }
   ],
   "source": [
    "n = 17\n",
    "id(17) == id(n)"
   ]
  }
 ]
}