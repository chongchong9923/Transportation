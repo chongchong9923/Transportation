{
 "metadata": {
  "language_info": {
   "codemirror_mode": {
    "name": "ipython",
    "version": 3
   },
   "file_extension": ".py",
   "mimetype": "text/x-python",
   "name": "python",
   "nbconvert_exporter": "python",
   "pygments_lexer": "ipython3",
   "version": "3.9.1-final"
  },
  "orig_nbformat": 2,
  "kernelspec": {
   "name": "python3",
   "display_name": "Python 3",
   "language": "python"
  }
 },
 "nbformat": 4,
 "nbformat_minor": 2,
 "cells": [
  {
   "source": [
    "자료구조와 배열\n",
    "    "
   ],
   "cell_type": "markdown",
   "metadata": {}
  },
  {
   "source": [
    "\"\"\"\n",
    "리스트 원소 개수는 리스트 만들기 전에 반드시 결정해야함\n",
    "하지만 원솟값을 정하지 않는 리스트는 None을 사용해 만들 수 있음\n",
    "list11 = [None] * 5\n",
    "\"\"\""
   ],
   "cell_type": "markdown",
   "metadata": {}
  },
  {
   "cell_type": "code",
   "execution_count": 10,
   "metadata": {},
   "outputs": [
    {
     "output_type": "stream",
     "name": "stdout",
     "text": [
      "배열의 최댓값을 구합니다.\n",
      "최댓값은20입니다.\n"
     ]
    }
   ],
   "source": [
    "from typing import Any, Sequence\n",
    "\n",
    "def max_of(a: Sequence) -> Any:\n",
    "    \"\"\"시퀀스형 a 원소의 최댓값을 반환하는 함수\"\"\"\n",
    "    maximum = a[0]\n",
    "    for i in range(1,len(a)):\n",
    "        if a[i] > maximum:\n",
    "            maximum = a[i]\n",
    "    return maximum\n",
    "if __name__ =='__main__':\n",
    "    print('배열의 최댓값을 구합니다.')\n",
    "    num = int(input('원소 수를 입력하세요:'))\n",
    "    x = [None] *num\n",
    "\n",
    "    for i in range(num):\n",
    "        x[i] = int(input(f'x[{i}]값을 입력하세요:'))\n",
    "    \n",
    "    print(f'최댓값은{max_of(x)}입니다.')"
   ]
  },
  {
   "cell_type": "code",
   "execution_count": 11,
   "metadata": {},
   "outputs": [
    {
     "output_type": "stream",
     "name": "stdout",
     "text": [
      "난수의 최대값을 구한다\n12312\n"
     ]
    }
   ],
   "source": [
    "#메인이란\n",
    "import random\n",
    "from max import max_of\n",
    "\n",
    "print('난수의 최대값을 구한다')\n",
    "k = [1,2,3,4,5,12312,5,2]\n",
    "print(max_of(k))\n",
    "\n",
    "\n"
   ]
  },
  {
   "cell_type": "code",
   "execution_count": 31,
   "metadata": {},
   "outputs": [],
   "source": [
    "# 소수 나열 및 갯수 카운트\n",
    "\n",
    "def sosu(n):\n",
    "    count = 0\n",
    "    sosu = n\n",
    "    for i in range(2,n+1):\n",
    "        for j in range(2,i):\n",
    "            count += 1\n",
    "            if i % j == 0 :\n",
    "                sosu -= 1\n",
    "                break\n",
    "        else:\n",
    "            print(i,\"\")\n",
    "    print(f'소수의 개수{sosu}, 나눗셈 수행횟수{count}')     "
   ]
  },
  {
   "cell_type": "code",
   "execution_count": 35,
   "metadata": {},
   "outputs": [
    {
     "output_type": "stream",
     "name": "stdout",
     "text": [
      "2 \n3 \n5 \n7 \n소수의 개수5, 나눗셈 수행횟수14\n"
     ]
    }
   ],
   "source": [
    "sosu(9)"
   ]
  },
  {
   "cell_type": "code",
   "execution_count": null,
   "metadata": {},
   "outputs": [],
   "source": [
    "# 리스트의 원소와 복사\n",
    "# 자료형을 정하지 않은 리스트 원소 확인하기\n",
    "#참조하는 곳이 같기 때문에 y = x.copy()일 경우,  이 경우는 얕은 복사를 수행함\n",
    "#따라서 리스트 x가 참조하는 곳이 다르면 y 도 달라짐\n",
    "# 깊은 복사가 필요함\n",
    "#import copy, y = copy.deepcopy(x)"
   ]
  }
 ]
}